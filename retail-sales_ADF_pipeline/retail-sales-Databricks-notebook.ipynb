{
 "cells": [
  {
   "cell_type": "code",
   "execution_count": 0,
   "metadata": {
    "application/vnd.databricks.v1+cell": {
     "cellMetadata": {},
     "inputWidgets": {},
     "nuid": "1ca5be7b-7926-4dda-b8cd-09e099c846b7",
     "showTitle": false,
     "tableResultSettingsMap": {},
     "title": ""
    }
   },
   "outputs": [],
   "source": [
    "#mount an Azure Blob Storage container to Databricks File System (DBFS) so that you can access files stored in Azure as if they were local files in Databricks.\n",
    "#dbutil - utility tool in databricks - enables to interact with databricks runtime environment \n",
    "#dbutil.fs - list files, copy/move/delete data\n",
    "#mount() = attaches external storage to Databricks so you can use it like a folder\n",
    "dbutils.fs.mount(\n",
    "source = \"wasbs://retail001@retailprojstorage.blob.core.windows.net\",\n",
    "mount_point = \"/mnt/retail\",\n",
    "extra_options = {\"fs.azure.account.key.retailprojstorage.blob.core.windows.net\":\"c+DN4Wyz+eKRpZkPxTOZIPF4ofjibotvC5b6PsDMHpSoMzKXeMPPR0OFqTLlXhXmsCg6hh7WQYoT+ASt/FEfoQ==\"}\n",
    ")\n",
    "#wasbs:// is the protocol for Azure Blob\n",
    "#mount point - databricks storage \n",
    "#extra_options - provide access keys to access the files in Azure"
   ]
  },
  {
   "cell_type": "code",
   "execution_count": 0,
   "metadata": {
    "application/vnd.databricks.v1+cell": {
     "cellMetadata": {},
     "inputWidgets": {},
     "nuid": "25b7ccfd-8622-4fce-8ddb-05dbd53338e1",
     "showTitle": false,
     "tableResultSettingsMap": {},
     "title": ""
    }
   },
   "outputs": [],
   "source": [
    "dbutils.fs.ls('/mnt/retail/bronze/transactions/')\n",
    "#list all the files and folders located in the path"
   ]
  },
  {
   "cell_type": "code",
   "execution_count": 0,
   "metadata": {
    "application/vnd.databricks.v1+cell": {
     "cellMetadata": {},
     "inputWidgets": {},
     "nuid": "8a5ec038-5c25-41c0-a115-11ec837664fe",
     "showTitle": false,
     "tableResultSettingsMap": {},
     "title": ""
    }
   },
   "outputs": [],
   "source": [
    "#read the raw data from bronze layer\n",
    "df_customers = spark.read.json('/mnt/adls/retail/bronze/customers.json') \n",
    "df_products = spark.read.parquet('/mnt/adls/retail/bronze/products.csv')\n",
    "df_stores = spark.read.parquet('/mnt/adls/retail/bronze/stores.csv')\n",
    "df_transactions = spark.read.parquet('mnt/adls/retail/bronze/transactions.csv')\n",
    "display(df_products)"
   ]
  },
  {
   "cell_type": "code",
   "execution_count": 0,
   "metadata": {
    "application/vnd.databricks.v1+cell": {
     "cellMetadata": {},
     "inputWidgets": {},
     "nuid": "bafd80f8-8f3d-4fed-ba5a-465e97858432",
     "showTitle": false,
     "tableResultSettingsMap": {},
     "title": ""
    }
   },
   "outputs": [],
   "source": [
    "display(df_transactions)\n",
    "#show Dataframes or file listings"
   ]
  },
  {
   "cell_type": "code",
   "execution_count": 0,
   "metadata": {
    "application/vnd.databricks.v1+cell": {
     "cellMetadata": {},
     "inputWidgets": {},
     "nuid": "0ebbef97-0718-42ba-99bf-313bc78c4b08",
     "showTitle": false,
     "tableResultSettingsMap": {},
     "title": ""
    }
   },
   "outputs": [],
   "source": [
    "from pyspark.sql.functions import col"
   ]
  },
  {
   "cell_type": "code",
   "execution_count": 0,
   "metadata": {
    "application/vnd.databricks.v1+cell": {
     "cellMetadata": {},
     "inputWidgets": {},
     "nuid": "65f9f0c4-0bcf-4710-916d-035318389cf0",
     "showTitle": false,
     "tableResultSettingsMap": {},
     "title": ""
    }
   },
   "outputs": [],
   "source": [
    "#convert types and clean data \n",
    "#transformations on transactions database (SQL DB)\n",
    "df_transactions = df_transactions.select(\n",
    "    col(\"transaction_id\").cast(\"int\"),\n",
    "    col(\"customer_id\").cast(\"int\"), \n",
    "    col(\"product_id\").cast(\"int\"), \n",
    "    col(\"store_id\").cast(\"int\"),\n",
    "    col(\"quantity\").cast(\"int\"),\n",
    "    col(\"transaction_date\").cast(\"date\")\n",
    ")"
   ]
  },
  {
   "cell_type": "code",
   "execution_count": 0,
   "metadata": {
    "application/vnd.databricks.v1+cell": {
     "cellMetadata": {},
     "inputWidgets": {},
     "nuid": "f51b7b62-c765-463b-91fd-f2aff8ab7e51",
     "showTitle": false,
     "tableResultSettingsMap": {},
     "title": ""
    }
   },
   "outputs": [],
   "source": [
    "#transformation on products database (SQL DB)\n",
    "df_products = df_products.select(\n",
    "    col(\"product_id\").cast(\"int\"),\n",
    "    col(\"product_name\"),\n",
    "    col(\"category\"),\n",
    "    col(\"price\").cast(\"double\")\n",
    ")"
   ]
  },
  {
   "cell_type": "code",
   "execution_count": 0,
   "metadata": {
    "application/vnd.databricks.v1+cell": {
     "cellMetadata": {},
     "inputWidgets": {},
     "nuid": "b5ca23d8-e5a3-47e1-9f48-797d696c77d1",
     "showTitle": false,
     "tableResultSettingsMap": {},
     "title": ""
    }
   },
   "outputs": [],
   "source": [
    "#transformation on stores database (SQL DB)\n",
    "df_stores = df_stores.select(\n",
    "    col(\"store_id\").cast(\"int\"),\n",
    "    col(\"store_name\"),\n",
    "    col(\"location\")\n",
    ")"
   ]
  },
  {
   "cell_type": "code",
   "execution_count": 0,
   "metadata": {
    "application/vnd.databricks.v1+cell": {
     "cellMetadata": {},
     "inputWidgets": {},
     "nuid": "dd8f8c86-eceb-4478-822e-e5f4d54aa988",
     "showTitle": false,
     "tableResultSettingsMap": {},
     "title": ""
    }
   },
   "outputs": [],
   "source": [
    "#transformation on customers data - json format data obtained by API call \n",
    "df_customers = df_customers.select(\n",
    "    \"customer_id\",\"first_name\",\"last_name\",\"email\",\"city\",\"registration_date\"\n",
    ").dropDuplicates([\"customer_id\"])\n",
    "#drop duplicate values and keep only unique values"
   ]
  },
  {
   "cell_type": "code",
   "execution_count": 0,
   "metadata": {
    "application/vnd.databricks.v1+cell": {
     "cellMetadata": {},
     "inputWidgets": {},
     "nuid": "e9e2ca98-dccc-40ca-ab4b-ee8e1a821f1b",
     "showTitle": false,
     "tableResultSettingsMap": {},
     "title": ""
    }
   },
   "outputs": [],
   "source": [
    "#join all data \n",
    "df_silver = df_transactions \\\n",
    "    .join(df_customers, \"customer_id\") \\\n",
    "    .join(df_products, \"product_id\") \\\n",
    "    .join(df_stores, \"store_id\") \\\n",
    "    .withColumn(\"total_amount\", col(\"quantity\") * col(\"price\"))\n",
    "#basically cleaning the data by joining all the dataframes"
   ]
  },
  {
   "cell_type": "code",
   "execution_count": 0,
   "metadata": {
    "application/vnd.databricks.v1+cell": {
     "cellMetadata": {},
     "inputWidgets": {},
     "nuid": "3b9818e8-571b-4903-8acc-f2363efa3dd3",
     "showTitle": false,
     "tableResultSettingsMap": {},
     "title": ""
    }
   },
   "outputs": [],
   "source": [
    "display(df_silver)\n",
    "#show the dataframe"
   ]
  },
  {
   "cell_type": "code",
   "execution_count": 0,
   "metadata": {
    "application/vnd.databricks.v1+cell": {
     "cellMetadata": {},
     "inputWidgets": {},
     "nuid": "28eb1e52-4d74-453d-8b9d-901654cbf34a",
     "showTitle": false,
     "tableResultSettingsMap": {},
     "title": ""
    }
   },
   "outputs": [],
   "source": [
    "silver_path = \"/mnt/adls/retail/silver/cleaned_transactions\"\n",
    "#setting path variable where the data will be saved - adls \n",
    "df_silver.write.mode(\"overwrite\").parquet(silver_path)\n",
    "#write tells spark to save the content and overwrite tells if there's already data at that path, delete it and write new data"
   ]
  },
  {
   "cell_type": "code",
   "execution_count": 0,
   "metadata": {
    "application/vnd.databricks.v1+cell": {
     "cellMetadata": {},
     "inputWidgets": {},
     "nuid": "5e48ab82-36d4-4a5f-82e4-f5ba398748a4",
     "showTitle": false,
     "tableResultSettingsMap": {},
     "title": ""
    }
   },
   "outputs": [],
   "source": [
    "spark.sql(f\"\"\"\n",
    "    CREATE TABLE retail_silver_cleaned\n",
    "    USING DELTA\n",
    "    LOCATION '/mnt/retail/silver/';\n",
    "          \"\"\")\n",
    "#sql with spark - the data is stored in delta lake format"
   ]
  },
  {
   "cell_type": "code",
   "execution_count": 0,
   "metadata": {
    "application/vnd.databricks.v1+cell": {
     "cellMetadata": {},
     "inputWidgets": {},
     "nuid": "d837ee9c-f726-479d-9ab3-eee0a7c772ba",
     "showTitle": false,
     "tableResultSettingsMap": {},
     "title": ""
    }
   },
   "outputs": [],
   "source": [
    "#Load cleaned transactions from Silver layer\n",
    "silver_df = spark.read.format(\"delta\").load(\"/mnt/adls/retail/silver/cleaned_transactions\")"
   ]
  },
  {
   "cell_type": "code",
   "execution_count": 0,
   "metadata": {
    "application/vnd.databricks.v1+cell": {
     "cellMetadata": {},
     "inputWidgets": {},
     "nuid": "7d4f4f56-4f9e-4246-b667-0dfae780fad1",
     "showTitle": false,
     "tableResultSettingsMap": {},
     "title": ""
    }
   },
   "outputs": [],
   "source": [
    "from pyspark.sql.functions import sum, countDistinct, avg"
   ]
  },
  {
   "cell_type": "code",
   "execution_count": 0,
   "metadata": {
    "application/vnd.databricks.v1+cell": {
     "cellMetadata": {},
     "inputWidgets": {},
     "nuid": "1d37923d-d67d-4b85-864c-e1a3024fbdcb",
     "showTitle": false,
     "tableResultSettingsMap": {},
     "title": ""
    }
   },
   "outputs": [],
   "source": [
    "gold_df = silver_df.groupBy(\n",
    "    \"transaction_date\",\n",
    "    \"product_id\", \"product_name\",\"category\",\n",
    "    \"store_id\", \"store_name\", \"location\"\n",
    ").agg(\n",
    "    sum(\"quantity\").alias(\"total_quantity_sold\"),\n",
    "    sum(\"total_amount\").alias(\"total_sales_amount\"),\n",
    "    countDistinct(\"transaction_id\").alias(\"number_of_transactions\"),\n",
    "    avg(\"total_amount\").alias(\"avg_transactional_value\")\n",
    ")"
   ]
  },
  {
   "cell_type": "code",
   "execution_count": 0,
   "metadata": {
    "application/vnd.databricks.v1+cell": {
     "cellMetadata": {},
     "inputWidgets": {},
     "nuid": "f769ca4e-3241-4cf6-a38a-16e2c1ee883a",
     "showTitle": false,
     "tableResultSettingsMap": {},
     "title": ""
    }
   },
   "outputs": [],
   "source": [
    "gold_path = \"/mnt/adls/retail/gold/\"\n",
    "df_gold.write.mode(\"overwrite\").format(\"delta\").save(gold_path)"
   ]
  },
  {
   "cell_type": "code",
   "execution_count": 0,
   "metadata": {
    "application/vnd.databricks.v1+cell": {
     "cellMetadata": {},
     "inputWidgets": {},
     "nuid": "9641ecc1-69a2-4611-b0b9-cd6250c7afc0",
     "showTitle": false,
     "tableResultSettingsMap": {},
     "title": ""
    }
   },
   "outputs": [],
   "source": [
    "spark.sql(\"\"\"\n",
    "    CREATE TABLE retail_gold_sales_summary\n",
    "    USING DELTA\n",
    "    LOCATION '/mnt/retail/gold/'\n",
    " \"\"\")"
   ]
  }
 ],
 "metadata": {
  "application/vnd.databricks.v1+notebook": {
   "computePreferences": null,
   "dashboards": [],
   "environmentMetadata": {
    "base_environment": "",
    "environment_version": "3"
   },
   "inputWidgetPreferences": null,
   "language": "python",
   "notebookMetadata": {
    "pythonIndentUnit": 4
   },
   "notebookName": "retail-sales-Databricks-notebook",
   "widgets": {}
  },
  "language_info": {
   "name": "python"
  }
 },
 "nbformat": 4,
 "nbformat_minor": 0
}